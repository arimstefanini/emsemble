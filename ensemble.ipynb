{
  "nbformat": 4,
  "nbformat_minor": 0,
  "metadata": {
    "colab": {
      "name": "Ensemble.ipynb",
      "provenance": []
    },
    "kernelspec": {
      "name": "python3",
      "display_name": "Python 3"
    },
    "language_info": {
      "name": "python"
    }
  },
  "cells": [
    {
      "cell_type": "code",
      "metadata": {
        "id": "eHYMiGLCoSq1",
        "colab": {
          "base_uri": "https://localhost:8080/"
        },
        "outputId": "1a2ba626-78f9-4794-c39f-3c15a4925edc"
      },
      "source": [
        "# -*- coding: utf-8 -*-\n",
        "\"\"\"\n",
        "Created on Sat May 15 10:03:22 2021\n",
        "\n",
        "@author: arist\n",
        "\"\"\"\n",
        "\n",
        "from keras.models import load_model\n",
        "from sklearn.metrics import accuracy_score\n",
        "from tensorflow.keras.preprocessing.image import ImageDataGenerator\n",
        "\n",
        "import os\n",
        "import pandas as pd\n",
        "import numpy as np\n",
        "\n",
        "\n",
        "model1 = load_model('/content/drive/MyDrive/COVID/COVID/CODIGOS/conjuntoImagem/inceptionCANCER.h5')\n",
        "model2 = load_model('/content/drive/MyDrive/COVID/COVID/CODIGOS/conjuntoImagem/resnetCANCER.h5')\n",
        "model3 = load_model('/content/drive/MyDrive/COVID/COVID/CODIGOS/conjuntoImagem/vggCANCER.h5')\n",
        "model4 = load_model('/content/drive/MyDrive/COVID/COVID/CODIGOS/conjuntoImagem/xcptionocertoCANCER.h5')\n",
        "\n",
        "models = [model1, model2, model3, model4]\n",
        "\n",
        "CATEGORIES = ['Malignant cases', 'Normal cases']\n",
        "NUM_CATEGORIES = len(CATEGORIES)\n",
        "NUM_CATEGORIES\n",
        "\n",
        "teste_dir = '/content/drive/MyDrive/COVID/COVID/CODIGOS/conjuntoImagem/The IQ-OTHNCCD lung cancer dataset/The IQ-OTHNCCD lung cancer dataset/test'\n",
        "teste = []\n",
        "for category_id, category in enumerate(CATEGORIES):\n",
        "    for file in os.listdir(os.path.join(teste_dir, category)):\n",
        "        teste.append(['{}/{}'.format(category, file), category_id, category])\n",
        "teste = pd.DataFrame(teste, columns=['file', 'category_id', 'category'])\n",
        "teste.shape\n",
        "\n",
        "test_datagen = ImageDataGenerator(rescale=1./255)\n",
        "print(\"==============TEST RESULTS============\")\n",
        "\n",
        "\n",
        "test_generator = test_datagen.flow_from_dataframe(dataframe=teste,\n",
        "                                                  directory=teste_dir,\n",
        "                                                x_col=\"file\",\n",
        "                                                y_col='category',\n",
        "                                                batch_size=10,\n",
        "                                                shuffle=False,\n",
        "                                                class_mode='categorical',\n",
        "                                                target_size=(224, 224),\n",
        "                                                validate_filenames=False)\n",
        "\n",
        "\n",
        "models = [model1, model2, model3, model4]\n",
        "preds1 = [model.predict(test_generator, verbose=1) for model in models]\n",
        "preds1 = np.array(preds1)\n",
        "true_classes = test_generator.classe\n",
        "\n",
        "\n",
        "df = pd.DataFrame([])\n",
        "\n",
        "for w1 in range(0, 5):\n",
        "    for w2 in range(0,5):\n",
        "        for w3 in range(0,5):\n",
        "            for w4 in range(0,5):\n",
        "                wts = [w1/10., w2/10., w3/10., w4/10.]\n",
        "                wted_preds1 = np.tensordot(preds1, wts, axes=((0),(0)))\n",
        "                wetd_ensemble_pred = np.argmax(wted_preds1, axis=1)\n",
        "                weighted_accuracy1 = accuracy_score(true_classes, wetd_ensemble_pred)\n",
        "                df= df.append(pd.DataFrame({'w1': wts[0], 'w2': wts[1], 'w3': wts[2], 'w4': wts[3], 'acc': weighted_accuracy1*100}, index=[0]), ignore_index=True)\n",
        "\n",
        "                              \n",
        "max_acc_row = df.iloc[df['acc'].idxmax()]\n",
        "print('max acc: ', max_acc_row[0], 'w1: ', max_acc_row[1], 'w2: ', max_acc_row[2], 'w3: ', max_acc_row[3], 'w4: ', max_acc_row[4])\n",
        "\n",
        "\n"
      ],
      "execution_count": null,
      "outputs": [
        {
          "output_type": "stream",
          "text": [
            "==============TEST RESULTS============\n",
            "Found 226 non-validated image filenames belonging to 2 classes.\n",
            "    137/Unknown - 240s 2s/step"
          ],
          "name": "stdout"
        }
      ]
    }
  ]
}